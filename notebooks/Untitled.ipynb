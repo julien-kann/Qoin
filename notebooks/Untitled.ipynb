{
 "cells": [
  {
   "cell_type": "code",
   "execution_count": 1,
   "id": "fe89b863-542f-490d-ab5c-3baf50d42e63",
   "metadata": {},
   "outputs": [],
   "source": [
    "import pandas as pd\n",
    "import numpy as np\n",
    "from keras.utils import plot_model\n",
    "from tensorflow.keras import utils"
   ]
  },
  {
   "cell_type": "code",
   "execution_count": null,
   "id": "f29b1d40-e695-4066-9400-48cfb0b061a2",
   "metadata": {},
   "outputs": [],
   "source": [
    "from keras.layers import (\n",
    "    Input,\n",
    "    Activation,\n",
    "    Dense,\n",
    "    Flatten,\n",
    "    Dropout,\n",
    "    GRU\n",
    ")\n",
    "from keras.layers import (\n",
    "    Conv1D,\n",
    "    Conv2D,\n",
    "    MaxPooling1D,\n",
    "    MaxPooling2D,\n",
    "    AveragePooling1D\n",
    ")\n",
    "from tensorflow.keras.callbacks import EarlyStopping\n",
    "from keras.models import Sequential\n",
    "from keras.layers import add\n",
    "from keras.layers import BatchNormalization\n",
    "from keras.regularizers import l2\n",
    "from keras.optimizers import Adam\n",
    "import keras \n",
    "from keras import backend as K"
   ]
  },
  {
   "cell_type": "code",
   "execution_count": null,
   "id": "a297ceba-360b-41e5-b719-fe57d02f7d0a",
   "metadata": {},
   "outputs": [],
   "source": [
    "from tensorflow.keras import Model\n",
    "from sklearn import preprocessing\n",
    "full_scale = preprocessing.MinMaxScaler()\n",
    "output_scale = preprocessing.MinMaxScaler()"
   ]
  },
  {
   "cell_type": "code",
   "execution_count": null,
   "id": "8fd84ee4-4b25-4b70-a649-4a74529b0258",
   "metadata": {},
   "outputs": [],
   "source": [
    "btc = pd.read_csv(\"../data/Bitstamp_BTCUSD_1h.csv\", skiprows=1, index_col=\"date\")\n",
    "btc.index = pd.to_datetime(btc.index)\n",
    "btc.sort_index(inplace=True)\n",
    "btc[\"return\"] = btc[\"close\"] - btc[\"open\"]  \n",
    "btc[\"state\"] = np.where(btc[\"return\"] > 0, 1, 0)\n",
    "btc[\"prev_vol_btc\"] = btc[\"Volume BTC\"].shift(1)\n",
    "btc[\"prev_vol_USD\"] = btc[\"Volume USD\"].shift(1)\n",
    "btc[\"prev_high\"] = btc[\"high\"].shift(1)\n",
    "btc[\"prev_low\"] = btc[\"low\"].shift(1)\n",
    "btc[\"pct_change\"] = (btc[\"close\"] - btc[\"open\"])/ btc[\"open\"] * 100 \n",
    "btc = btc.iloc[1:]\n",
    "train = btc[btc.index.year <= 2023]\n",
    "train_y = output_scale.fit_transform(train[23:][\"pct_change\"].to_numpy().reshape(-1,1))\n",
    "\n",
    "train_scaled = pd.DataFrame(full_scale.fit_transform(train.iloc[:,2:]), index=train.index, columns = train.columns[2:])\n",
    "test = pd.DataFrame(full_scale.transform(btc.iloc[btc.index.year > 2023, 2:]), index=btc.iloc[btc.index.year > 2023].index, columns = btc.columns[2:])\n",
    "\"\"\"\n",
    "train = btc[btc.index.year <= 2023]\n",
    "test = btc[btc.index.year > 2023]\n",
    "train[\"open_scale\"] = open_scale.fit_transform(train[\"open\"].to_numpy().reshape(-1,1))\n",
    "test[\"open_scale\"] = open_scale.transform(test[\"open\"].to_numpy().reshape(-1,1))\n",
    "train[\"close_scale\"] = open_scale.fit_transform(train[\"close\"].to_numpy().reshape(-1,1))\n",
    "test[\"close_scale\"] = open_scale.transform(test[\"close\"].to_numpy().reshape(-1,1))\n",
    "train[\"prev_vol_btc_scale\"] = vol_scale.fit_transform(train[\"prev_vol_btc\"].to_numpy().reshape(-1,1))\n",
    "test[\"prev_vol_btc_scale\"] = vol_scale.transform(test[\"prev_vol_btc\"].to_numpy().reshape(-1,1))\n",
    "\"\"\""
   ]
  },
  {
   "cell_type": "code",
   "execution_count": null,
   "id": "7e6f10c5-c33f-4e85-94af-8c8e9823a59f",
   "metadata": {},
   "outputs": [],
   "source": [
    "\"\"\"\n",
    "btc[\"sma3\"] = btc[\"open\"].rolling(3).mean()\n",
    "btc[\"sma6\"] = btc[\"open\"].rolling(6).mean()\n",
    "btc[\"sma9\"] = btc[\"open\"].rolling(9).mean()\n",
    "btc[\"sma12\"] = btc[\"open\"].rolling(12).mean()\n",
    "btc[\"sma1d\"] = btc[\"open\"].rolling(24).mean()\n",
    "btc[\"ewa3\"] = btc[\"open\"].ewm(span=3, min_periods=2).mean()\n",
    "btc[\"ewa6\"] = btc[\"open\"].ewm(span=6, min_periods=5).mean()\n",
    "btc[\"ewa9\"] = btc[\"open\"].ewm(span=9, min_periods=8).mean()\n",
    "btc[\"ewa12\"] = btc[\"open\"].ewm(span=12, min_periods=11).mean()\n",
    "btc[\"ewa1d\"] = btc[\"close\"].ewm(span=24, min_periods=23).mean\"\"\""
   ]
  },
  {
   "cell_type": "code",
   "execution_count": null,
   "id": "856c686e-8ce2-486e-ac4a-cb9a90824968",
   "metadata": {},
   "outputs": [],
   "source": [
    "train_x = np.hstack((np.lib.stride_tricks.sliding_window_view(train_scaled[\"open\"], 24), \n",
    "                     np.lib.stride_tricks.sliding_window_view(train_scaled[\"prev_high\"], 24),\n",
    "                     np.lib.stride_tricks.sliding_window_view(train_scaled[\"prev_low\"], 24),\n",
    "                     np.lib.stride_tricks.sliding_window_view(train_scaled[\"prev_vol_btc\"], 24),\n",
    "                     np.lib.stride_tricks.sliding_window_view(train_scaled[\"prev_vol_USD\"], 24)\n",
    "                    )).reshape(-1,24,5)\n",
    "test_x = np.hstack((np.lib.stride_tricks.sliding_window_view(test[\"open\"], 24),\n",
    "                    np.lib.stride_tricks.sliding_window_view(test[\"prev_high\"], 24),\n",
    "                    np.lib.stride_tricks.sliding_window_view(test[\"prev_low\"], 24),\n",
    "                    np.lib.stride_tricks.sliding_window_view(test[\"prev_vol_btc\"], 24),\n",
    "                     np.lib.stride_tricks.sliding_window_view(test[\"prev_vol_USD\"], 24))\n",
    "                  ).reshape(-1,24,5)\n",
    "                           \n",
    "test_y = output_scale.transform(btc.iloc[btc.index.year > 2023].iloc[23:][\"pct_change\"].to_numpy().reshape(-1,1))\n",
    "\n",
    "#train_y= min_max_scaler.fit_transform(train.iloc[23:][\"return\"].to_numpy().reshape(-1,1))\n",
    "#test_y = min_max_scaler.transform(test.iloc[23:][\"return\"].to_numpy().reshape(-1,1))\n",
    "\n"
   ]
  },
  {
   "cell_type": "code",
   "execution_count": null,
   "id": "c0d81c6d-fa62-4ba3-8ed8-140a92218a72",
   "metadata": {},
   "outputs": [],
   "source": [
    "pd.DataFrame(test_y).describe()"
   ]
  },
  {
   "cell_type": "code",
   "execution_count": null,
   "id": "126d13eb-6938-4a58-9dcd-cac79a647dbc",
   "metadata": {},
   "outputs": [],
   "source": [
    "model = keras.Sequential(name=\"model_conv1D\")\n",
    "model.add(keras.layers.Input(shape=(24,5)))\n",
    "model.add(Conv1D(32, 5, activation='relu'))\n",
    "model.add(Dropout(0.1))\n",
    "model.add(Conv1D(64, 3, activation='relu'))\n",
    "model.add(Dropout(0.1))\n",
    "model.add(GRU(units = 128, return_sequences=True))\n",
    "model.add(Dropout(0.5))\n",
    "model.add(GRU(units = 128, return_sequences=True))\n",
    "model.add(Dropout(0.5))\n",
    "model.add(GRU(units = 128))\n",
    "model.add(Dropout(0.5))\n",
    "model.add(Dense(units = 64, activation='relu'))\n",
    "model.add(Dropout(0.5))\n",
    "model.add(Dense(units = 64, activation='relu'))\n",
    "model.add(Dropout(0.5))\n",
    "model.add(Dense(units = 32, activation='relu'))\n",
    "model.add(Dropout(0.5))\n",
    "model.add(Dense(units=1, activation='linear'))\n",
    "\n",
    "\n",
    "optimizer = keras.optimizers.Adam()\n",
    "model.compile(loss='mae',optimizer=optimizer,metrics=['mse', 'root_mean_squared_error'])"
   ]
  },
  {
   "cell_type": "code",
   "execution_count": null,
   "id": "fa0170da-a748-49ad-bba3-4bc315440ad9",
   "metadata": {},
   "outputs": [],
   "source": [
    "model.summary()"
   ]
  },
  {
   "cell_type": "code",
   "execution_count": null,
   "id": "be3d4e2f-ba79-4a2f-ae32-c37596531f9c",
   "metadata": {},
   "outputs": [],
   "source": [
    "monitor = EarlyStopping(monitor='val_loss', patience=10, verbose=1, mode='auto')\n",
    "model.fit(train_x, train_y, batch_size=64, validation_data=(test_x,test_y), callbacks=[monitor], epochs=100)"
   ]
  },
  {
   "cell_type": "code",
   "execution_count": null,
   "id": "553a682b-3f66-4b0c-addc-0b0a36bf98b3",
   "metadata": {},
   "outputs": [],
   "source": []
  },
  {
   "cell_type": "code",
   "execution_count": null,
   "id": "8a361cfa-4e4e-44e6-8a3a-d5c11c8250fe",
   "metadata": {},
   "outputs": [],
   "source": [
    "y = output_scale.inverse_transform(model.predict(test_x))"
   ]
  },
  {
   "cell_type": "code",
   "execution_count": null,
   "id": "9f15f22d-a81d-4c92-80e0-f6f1828413df",
   "metadata": {},
   "outputs": [],
   "source": [
    "test[\"u_close\"] = output_scale.inverse_transform(test[\"close\"].to_numpy().reshape(-1,1)) "
   ]
  },
  {
   "cell_type": "code",
   "execution_count": null,
   "id": "4a0c1bcc-6108-4101-bd65-30e6133ddd08",
   "metadata": {},
   "outputs": [],
   "source": [
    "test[\"u_close\"]"
   ]
  },
  {
   "cell_type": "code",
   "execution_count": null,
   "id": "161481e5-914a-403e-aa3c-0281fdbbbacf",
   "metadata": {},
   "outputs": [],
   "source": [
    "test[\"y_pred\"] = np.append(np.repeat(np.nan, 23), y) * test[\"open\"]"
   ]
  },
  {
   "cell_type": "code",
   "execution_count": null,
   "id": "eb8c7dd2-260e-4d34-8168-2e261f4c94ec",
   "metadata": {},
   "outputs": [],
   "source": [
    "test[\"y_pred\"]"
   ]
  },
  {
   "cell_type": "code",
   "execution_count": null,
   "id": "3b395d55-6249-4994-9b53-9c6c68a2b5a5",
   "metadata": {},
   "outputs": [],
   "source": [
    "test.[[\"u_close\", \"y_pred\"]].plot()"
   ]
  },
  {
   "cell_type": "code",
   "execution_count": null,
   "id": "3eff1a37-da2f-4377-b847-9e2f123d237c",
   "metadata": {},
   "outputs": [],
   "source": [
    "pd.to_datetime(\"2024-03-15 18:00:00\")"
   ]
  },
  {
   "cell_type": "code",
   "execution_count": null,
   "id": "826d435c-8816-4488-922b-9bedb25a68d4",
   "metadata": {},
   "outputs": [],
   "source": [
    "test[\"d_close\"] = test[\"close\"].rolling(window=2).apply(lambda x: x.iloc[1] - x.iloc[0])\n",
    "test[\"d_pred\"] = test[\"y_pred\"].rolling(window=2).apply(lambda x: x.iloc[1] - x.iloc[0])\n",
    "test[\"lazy\"] = test[\"open\"].rolling(window=2).apply(lambda x: x.iloc[1] - x.iloc[0])"
   ]
  },
  {
   "cell_type": "code",
   "execution_count": null,
   "id": "661c0c84-1449-414a-b902-02beee1e420c",
   "metadata": {},
   "outputs": [],
   "source": [
    "from sklearn.metrics import root_mean_squared_error\n",
    "ok = test.dropna(axis=0)"
   ]
  },
  {
   "cell_type": "code",
   "execution_count": null,
   "id": "21316034-59af-4116-aefa-c0bd608fdae5",
   "metadata": {},
   "outputs": [],
   "source": [
    "root_mean_squared_error(ok[\"d_close\"], ok[\"d_pred\"])"
   ]
  },
  {
   "cell_type": "code",
   "execution_count": null,
   "id": "6b02bbe0-e6bf-407e-93f2-384c571a4204",
   "metadata": {},
   "outputs": [],
   "source": [
    "root_mean_squared_error(ok[\"d_close\"], ok[\"lazy\"])"
   ]
  },
  {
   "cell_type": "code",
   "execution_count": null,
   "id": "aa81f08a-6d77-4451-b5a0-2cf661b8e6b0",
   "metadata": {},
   "outputs": [],
   "source": [
    "test[\"delta\"] = (test[\"d_close\"] - test[\"d_pred\"])**\n",
    "test[\"delta_lazy\"] = (test[\"d_close\"] - test[\"d_pred\"])**2"
   ]
  },
  {
   "cell_type": "code",
   "execution_count": null,
   "id": "8a81e2a5-50eb-4c9a-9cdb-df1386d13ae4",
   "metadata": {},
   "outputs": [],
   "source": [
    "test[\"delta\"].plot()"
   ]
  },
  {
   "cell_type": "code",
   "execution_count": null,
   "id": "4404301b-19c4-4b0e-8116-dbaa4d49f010",
   "metadata": {},
   "outputs": [],
   "source": [
    "btc[\"return_scaled\"].describe()"
   ]
  },
  {
   "cell_type": "code",
   "execution_count": null,
   "id": "db45636e-0080-490a-bdba-23253f5c4db1",
   "metadata": {},
   "outputs": [],
   "source": [
    "inputs = Input(shape=(24,1), name='input')\n",
    "x = Conv1D(32, 3, activation=\"relu\", padding=\"same\", name=\"convLayer\")(inputs)\n",
    "x = Dropout(0.1)(x)\n",
    "\n",
    "x = Conv1D(64, 3, activation=\"relu\")(x)\n",
    "x = Dropout(0.1)(x)\n",
    "\n",
    "x = GRU(128, activation=\"relu\", return_sequences=True)(x)\n",
    "x = Dropout(0.5)(x)\n",
    "\n",
    "\n",
    "x = GRU(128, activation=\"relu\")(x)\n",
    "x = Dropout(0.5)(x)\n",
    "\n",
    "x = Dense(64, activation=\"relu\")(x)\n",
    "x = Dropout(0.5)(x)\n",
    "\n",
    "x = Dense(32, activation=\"relu\")(x)\n",
    "x = Dropout(0.5)(x)\n",
    "\n",
    "output1 = Dense(1, name='cont_out')(x)\n",
    "output2 = Dense(3, activation='softmax', name='cat_out')(x)\n",
    "\n",
    "model = Model(inputs=inputs, outputs=[output1, output2])\n",
    "\n"
   ]
  },
  {
   "cell_type": "code",
   "execution_count": null,
   "id": "beef9550-13ed-401c-8353-3c9fa1a327bd",
   "metadata": {},
   "outputs": [],
   "source": []
  },
  {
   "cell_type": "code",
   "execution_count": null,
   "id": "7f42e77d-e594-4948-a8cd-809d290aa9c3",
   "metadata": {},
   "outputs": [],
   "source": [
    "np_utils.to_categorical(btc[\"state\"], 3)"
   ]
  },
  {
   "cell_type": "code",
   "execution_count": null,
   "id": "e4762ef3-c079-4027-a0b3-5d1ecb1789dc",
   "metadata": {},
   "outputs": [],
   "source": [
    "btc[\"state\"].value_counts()"
   ]
  },
  {
   "cell_type": "code",
   "execution_count": null,
   "id": "548734df-2fff-4ec6-bff6-7e1859188de0",
   "metadata": {},
   "outputs": [],
   "source": [
    "btc.iloc[23:][[\"state\", \"return\"]].to_numpy()"
   ]
  },
  {
   "cell_type": "code",
   "execution_count": null,
   "id": "0a996eb9-9f00-4d54-b389-08158b802956",
   "metadata": {},
   "outputs": [],
   "source": [
    "y = btc.iloc[:24]"
   ]
  },
  {
   "cell_type": "code",
   "execution_count": null,
   "id": "fe1b307b-0aab-4cfc-8aac-a9e6c0fceb34",
   "metadata": {},
   "outputs": [],
   "source": [
    "btc.iloc[:25][[\"open\",\"close\"]]"
   ]
  },
  {
   "cell_type": "code",
   "execution_count": null,
   "id": "6525dd29-000f-44c4-98a3-7d1835b43a0b",
   "metadata": {},
   "outputs": [],
   "source": [
    "btc.index = pd.to_datetime(btc.index)\n",
    "btc.sort_index(inplace=True)"
   ]
  },
  {
   "cell_type": "code",
   "execution_count": null,
   "id": "c74c60a6-d0da-4ca3-a9d6-836e4d1d1e1e",
   "metadata": {},
   "outputs": [],
   "source": [
    "btc[\"diff\"] = btc[\"close\"] - btc[\"open\"]"
   ]
  },
  {
   "cell_type": "code",
   "execution_count": null,
   "id": "16fd84d5-c041-487b-ad93-38485610cbb7",
   "metadata": {},
   "outputs": [],
   "source": [
    "btc[\"diff\"].idxmin()"
   ]
  },
  {
   "cell_type": "code",
   "execution_count": null,
   "id": "1d69295b-e521-4acb-a974-9ac30ea2b10f",
   "metadata": {},
   "outputs": [],
   "source": [
    "btc[\"sma3\"] = btc[\"open\"].rolling(3).mean()\n",
    "btc[\"sma6\"] = btc[\"open\"].rolling(6).mean()\n",
    "btc[\"sma9\"] = btc[\"open\"].rolling(9).mean()\n",
    "btc[\"sma12\"] = btc[\"open\"].rolling(12).mean()\n",
    "btc[\"sma1d\"] = btc[\"open\"].rolling(24).mean()"
   ]
  },
  {
   "cell_type": "code",
   "execution_count": null,
   "id": "7e003910-327d-4e87-a4fe-dec4a992726a",
   "metadata": {},
   "outputs": [],
   "source": [
    "btc[\"ewa3\"] = btc[\"open\"].ewm(span=3, min_periods=2).mean()\n",
    "btc[\"ewa6\"] = btc[\"open\"].ewm(span=6, min_periods=5).mean()\n",
    "btc[\"ewa9\"] = btc[\"open\"].ewm(span=9, min_periods=8).mean()\n",
    "btc[\"ewa12\"] = btc[\"open\"].ewm(span=12, min_periods=11).mean()\n",
    "btc[\"ewa1d\"] = btc[\"close\"].ewm(span=24, min_periods=23).mean()"
   ]
  },
  {
   "cell_type": "code",
   "execution_count": null,
   "id": "3b9a3bbd-da15-4e4d-9328-a2ebf6dc1614",
   "metadata": {},
   "outputs": [],
   "source": [
    "btc['12hrSTD'] = btc['open'].rolling(window=12).std()\n",
    "btc['Upper'] = btc['sma12'] + (btc['12hrSTD'] * 2)\n",
    "btc['Lower'] = btc['sma12'] - (btc['12hrSTD'] * 2)"
   ]
  },
  {
   "cell_type": "code",
   "execution_count": null,
   "id": "96339732-f6fb-4665-85a3-30faf4d5bcd4",
   "metadata": {},
   "outputs": [],
   "source": [
    "btc[\"return\"] = btc[\"diff\"] - (btc[\"close\"] * .0003)"
   ]
  },
  {
   "cell_type": "code",
   "execution_count": null,
   "id": "53e4caf9-d8d0-4438-ad9f-849ed92260fc",
   "metadata": {},
   "outputs": [],
   "source": [
    "btc[\"state\"] = np.where(btc[\"return\"] > 0, 0,1)\n",
    "#btc[\"state\"] = np.where((btc[\"return\"] < 10) & (btc[\"return\"] > -10), 1, btc[\"state\"])"
   ]
  },
  {
   "cell_type": "code",
   "execution_count": null,
   "id": "c126b26a-df51-497f-9d51-356fe697b8f6",
   "metadata": {},
   "outputs": [],
   "source": [
    "btc[\"state\"].value_counts()"
   ]
  },
  {
   "cell_type": "code",
   "execution_count": null,
   "id": "23979bee-4105-4785-acf7-62b6a91ee3cd",
   "metadata": {},
   "outputs": [],
   "source": [
    "print(model.summary())"
   ]
  },
  {
   "cell_type": "code",
   "execution_count": null,
   "id": "8c73150f-8739-430a-bce0-3a58a6bf3574",
   "metadata": {},
   "outputs": [],
   "source": [
    "optimizer = tf.keras.optimizers.SGD(learning_rate=0.001)\n",
    "model.compile(optimizer=optimizer,\n",
    "              loss={'y1_output': 'mse', 'y2_output': 'mse'},\n",
    "              metrics={'y1_output': tf.keras.metrics.RootMeanSquaredError(),\n",
    "                       'y2_output': tf.keras.metrics.RootMeanSquaredError()})"
   ]
  },
  {
   "cell_type": "code",
   "execution_count": null,
   "id": "250867d4-b054-426c-b70b-beea180f95b3",
   "metadata": {},
   "outputs": [],
   "source": [
    "model = Sequential()\n",
    "model.add(Input(shape=(10,1)))\n",
    "model.add(Conv1D(32, 3, activation='relu'))\n",
    "model.add(Dropout(0.1))\n",
    "model.add(Conv1D(64, 3, activation='relu'))\n",
    "model.add(Dropout(0.1))\n",
    "model.add(GRU(units = 128, return_sequences=True))\n",
    "model.add(Dropout(0.5))\n",
    "model.add(GRU(units = 128))\n",
    "model.add(Dropout(0.5))\n",
    "model.add(Dense(units = 64, activation='relu'))\n",
    "model.add(Dropout(0.5))\n",
    "model.add(Dense(units = 32, activation='relu'))\n",
    "model.add(Dropout(0.5))\n",
    "model.add(Dense(units=2, activation='linear'))"
   ]
  },
  {
   "cell_type": "code",
   "execution_count": null,
   "id": "bca3ee7c-0bd5-4af0-8c0e-3c68807e4e65",
   "metadata": {},
   "outputs": [],
   "source": [
    "model.compile(\n",
    "    optimizer=keras.optimizers.Adam(),  # Optimizer\n",
    "    # Loss function to minimize\n",
    "    loss=keras.losses.MeanSquaredError(\n",
    "    reduction=\"sum_over_batch_size\", name=\"mean_squared_error\"),\n",
    "    # List of metrics to monitor\n",
    "    metrics=[keras.metrics.MeanSquaredError()],\n",
    ")\n"
   ]
  },
  {
   "cell_type": "code",
   "execution_count": null,
   "id": "c2ab2217-689e-4999-b0e9-0c1a030253f3",
   "metadata": {},
   "outputs": [],
   "source": [
    "train = btc[btc.index.year < 2024]\n",
    "test = btc[btc.index.year >= 2024]"
   ]
  },
  {
   "cell_type": "code",
   "execution_count": null,
   "id": "68371691-b638-4043-8f79-be748ec0aa1b",
   "metadata": {},
   "outputs": [],
   "source": [
    "train_x = train[[\"open\", \"sma3\", \"sma6\", \"sma9\", \"sma12\", \"sma1d\", \"ewa3\", \"12hrSTD\", \"Upper\", \"Lower\"]]\n",
    "train_y = train[[\"state\", \"diff\"]]\n",
    "test_x = test[[\"open\", \"sma3\", \"sma6\", \"sma9\", \"sma12\", \"sma1d\", \"ewa3\", \"12hrSTD\", \"Upper\", \"Lower\"]]\n",
    "test_y = test[[\"state\", \"diff\"]]\n"
   ]
  },
  {
   "cell_type": "code",
   "execution_count": null,
   "id": "ed07f457-847e-4e75-bf58-23faeab141d3",
   "metadata": {},
   "outputs": [],
   "source": [
    "model.fit(train_x, train_y[\"diff\"],\n",
    "         batch_size=64,\n",
    "    epochs=5,\n",
    ")"
   ]
  },
  {
   "cell_type": "code",
   "execution_count": null,
   "id": "a155409b-e76d-48dd-9e1c-866a37dfb7f2",
   "metadata": {},
   "outputs": [],
   "source": [
    "model.predict(test_x)"
   ]
  },
  {
   "cell_type": "code",
   "execution_count": null,
   "id": "26fcafed-972d-4959-b6fd-57ae25bec46f",
   "metadata": {},
   "outputs": [],
   "source": []
  }
 ],
 "metadata": {
  "kernelspec": {
   "display_name": ".venv",
   "language": "python",
   "name": ".venv"
  },
  "language_info": {
   "codemirror_mode": {
    "name": "ipython",
    "version": 3
   },
   "file_extension": ".py",
   "mimetype": "text/x-python",
   "name": "python",
   "nbconvert_exporter": "python",
   "pygments_lexer": "ipython3",
   "version": "3.12.0"
  }
 },
 "nbformat": 4,
 "nbformat_minor": 5
}
